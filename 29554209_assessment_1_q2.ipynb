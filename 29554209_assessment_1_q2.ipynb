{
 "cells": [
  {
   "cell_type": "markdown",
   "metadata": {},
   "source": [
    "# Student Name: Kanav Jamwal\n",
    "# Student ID: 29554209"
   ]
  },
  {
   "cell_type": "markdown",
   "metadata": {},
   "source": [
    "## Section A. Model Complexity and Model Selection"
   ]
  },
  {
   "cell_type": "markdown",
   "metadata": {},
   "source": [
    "## Question2."
   ]
  },
  {
   "cell_type": "code",
   "execution_count": 1,
   "metadata": {},
   "outputs": [
    {
     "name": "stderr",
     "output_type": "stream",
     "text": [
      "corrplot 0.84 loaded\n"
     ]
    }
   ],
   "source": [
    "# importing library.\n",
    "library(reshape2)\n",
    "library(ggplot2)\n",
    "library(corrplot)\n",
    "options(warn=-1)"
   ]
  },
  {
   "cell_type": "code",
   "execution_count": 2,
   "metadata": {},
   "outputs": [],
   "source": [
    "# loading data set.\n",
    "train.data.csv<-read.csv(\"Task1A_train.csv\")"
   ]
  },
  {
   "cell_type": "code",
   "execution_count": 3,
   "metadata": {},
   "outputs": [
    {
     "data": {
      "text/html": [
       "<table>\n",
       "<thead><tr><th scope=col>x1</th></tr></thead>\n",
       "<tbody>\n",
       "\t<tr><td>1960.0</td></tr>\n",
       "\t<tr><td>1960.5</td></tr>\n",
       "\t<tr><td>1961.0</td></tr>\n",
       "\t<tr><td>1961.5</td></tr>\n",
       "\t<tr><td>1962.0</td></tr>\n",
       "\t<tr><td>1962.5</td></tr>\n",
       "</tbody>\n",
       "</table>\n"
      ],
      "text/latex": [
       "\\begin{tabular}{r|l}\n",
       " x1\\\\\n",
       "\\hline\n",
       "\t 1960.0\\\\\n",
       "\t 1960.5\\\\\n",
       "\t 1961.0\\\\\n",
       "\t 1961.5\\\\\n",
       "\t 1962.0\\\\\n",
       "\t 1962.5\\\\\n",
       "\\end{tabular}\n"
      ],
      "text/markdown": [
       "\n",
       "x1 | \n",
       "|---|---|---|---|---|---|\n",
       "| 1960.0 | \n",
       "| 1960.5 | \n",
       "| 1961.0 | \n",
       "| 1961.5 | \n",
       "| 1962.0 | \n",
       "| 1962.5 | \n",
       "\n",
       "\n"
      ],
      "text/plain": [
       "  x1    \n",
       "1 1960.0\n",
       "2 1960.5\n",
       "3 1961.0\n",
       "4 1961.5\n",
       "5 1962.0\n",
       "6 1962.5"
      ]
     },
     "metadata": {},
     "output_type": "display_data"
    }
   ],
   "source": [
    "train.data <- train.data.csv[1]\n",
    "train.label <- train.data.csv[,2]\n",
    "head(train.data)"
   ]
  },
  {
   "cell_type": "code",
   "execution_count": 4,
   "metadata": {},
   "outputs": [],
   "source": [
    "# define a function that calculates the majority votes (or mode!)\n",
    "majority <- function(x) {\n",
    "   return(mean(x))\n",
    "}\n",
    "\n",
    "# KNN function (distance should be one of euclidean, maximum, manhattan, canberra, binary or minkowski)\n",
    "knn <- function(train.data, train.label, test.data, K=3, distance = 'euclidean'){\n",
    "        \n",
    "    # Number of sample in train\n",
    "    train.len <- nrow(train.data)\n",
    "    # Number of sample in test\n",
    "    test.len <- nrow(test.data)\n",
    "    dist <- as.matrix(dist(rbind(test.data, train.data), method= distance))[1:test.len, (test.len+1):(test.len+train.len)]\n",
    "    test.label <- c()\n",
    "    for (i in 1:test.len){\n",
    "        nn <- as.data.frame(sort(dist[i,], index.return = TRUE))[1:K,2]\n",
    "        test.label[i]<- (majority(train.label[nn]))\n",
    "    }\n",
    "    return (test.label)\n",
    "}"
   ]
  },
  {
   "cell_type": "markdown",
   "metadata": {},
   "source": [
    "### 1. Implement the L-fold cross validation for the KNN regressor."
   ]
  },
  {
   "cell_type": "code",
   "execution_count": 5,
   "metadata": {},
   "outputs": [],
   "source": [
    "cv <- function(train.data, train.label, numFold = 10) {\n",
    "    \n",
    "    K<-15\n",
    "    #Creating 10 equally size distinct fold\n",
    "    folds <- cut(seq(1,nrow(train.data)),breaks=numFold,labels=FALSE)\n",
    "    \n",
    "    \n",
    "    #Dataset to store errors\n",
    "    error_list <- data.frame('folds' = 1:numFold, 'error' = rep(0, numFold*K))\n",
    "    \n",
    "    for(k in 1:K){\n",
    "    #Perform 10 fold cross validation\n",
    "        for (i in 1:numFold){\n",
    "            #Segementing data\n",
    "            indexs <- which(folds == i)\n",
    "            index <- (k-1)*numFold+i\n",
    "            \n",
    "            test.fold <- data.frame(\"value\" = train.data[indexs,])\n",
    "            train.fold <- data.frame(\"value\" = train.data[-indexs,])\n",
    "    \n",
    "            test.label.fold <- train.label[indexs]\n",
    "            train.label.fold <- train.label[-indexs]\n",
    "            \n",
    "            error_list[index,'K']=k\n",
    "            error_list[index,'folds']=i\n",
    "            error_list[index, 'error'] = sum((knn(train.fold,train.label.fold, test.fold, K=k) - test.label.fold)^2)/nrow(train.fold)\n",
    "        }\n",
    "    }\n",
    "    return (error_list)\n",
    "}"
   ]
  },
  {
   "cell_type": "code",
   "execution_count": 6,
   "metadata": {},
   "outputs": [
    {
     "data": {
      "text/html": [
       "<table>\n",
       "<thead><tr><th scope=col>folds</th><th scope=col>error</th><th scope=col>K</th></tr></thead>\n",
       "<tbody>\n",
       "\t<tr><td>1          </td><td>0.005002703</td><td>1          </td></tr>\n",
       "\t<tr><td>2          </td><td>0.005581579</td><td>1          </td></tr>\n",
       "\t<tr><td>3          </td><td>0.018107895</td><td>1          </td></tr>\n",
       "\t<tr><td>4          </td><td>0.035502632</td><td>1          </td></tr>\n",
       "\t<tr><td>5          </td><td>0.074818421</td><td>1          </td></tr>\n",
       "\t<tr><td>6          </td><td>0.053076316</td><td>1          </td></tr>\n",
       "</tbody>\n",
       "</table>\n"
      ],
      "text/latex": [
       "\\begin{tabular}{r|lll}\n",
       " folds & error & K\\\\\n",
       "\\hline\n",
       "\t 1           & 0.005002703 & 1          \\\\\n",
       "\t 2           & 0.005581579 & 1          \\\\\n",
       "\t 3           & 0.018107895 & 1          \\\\\n",
       "\t 4           & 0.035502632 & 1          \\\\\n",
       "\t 5           & 0.074818421 & 1          \\\\\n",
       "\t 6           & 0.053076316 & 1          \\\\\n",
       "\\end{tabular}\n"
      ],
      "text/markdown": [
       "\n",
       "folds | error | K | \n",
       "|---|---|---|---|---|---|\n",
       "| 1           | 0.005002703 | 1           | \n",
       "| 2           | 0.005581579 | 1           | \n",
       "| 3           | 0.018107895 | 1           | \n",
       "| 4           | 0.035502632 | 1           | \n",
       "| 5           | 0.074818421 | 1           | \n",
       "| 6           | 0.053076316 | 1           | \n",
       "\n",
       "\n"
      ],
      "text/plain": [
       "  folds error       K\n",
       "1 1     0.005002703 1\n",
       "2 2     0.005581579 1\n",
       "3 3     0.018107895 1\n",
       "4 4     0.035502632 1\n",
       "5 5     0.074818421 1\n",
       "6 6     0.053076316 1"
      ]
     },
     "metadata": {},
     "output_type": "display_data"
    }
   ],
   "source": [
    "error.list<- cv(train.data, train.label, 10)\n",
    "my_data <- error.list[, c(3, 1, 2)]\n",
    "head(error.list)"
   ]
  },
  {
   "cell_type": "code",
   "execution_count": 7,
   "metadata": {},
   "outputs": [
    {
     "data": {
      "text/html": [
       "<table>\n",
       "<thead><tr><th scope=col>K</th><th scope=col>mean</th><th scope=col>sd</th></tr></thead>\n",
       "<tbody>\n",
       "\t<tr><td>1        </td><td>0.1895158</td><td>0.4096712</td></tr>\n",
       "\t<tr><td>2        </td><td>0.2784054</td><td>0.7449506</td></tr>\n",
       "\t<tr><td>3        </td><td>0.3295463</td><td>0.8807557</td></tr>\n",
       "\t<tr><td>4        </td><td>0.3730630</td><td>1.0862902</td></tr>\n",
       "\t<tr><td>5        </td><td>0.4303285</td><td>1.2648830</td></tr>\n",
       "\t<tr><td>6        </td><td>0.4594197</td><td>1.3877770</td></tr>\n",
       "</tbody>\n",
       "</table>\n"
      ],
      "text/latex": [
       "\\begin{tabular}{r|lll}\n",
       " K & mean & sd\\\\\n",
       "\\hline\n",
       "\t 1         & 0.1895158 & 0.4096712\\\\\n",
       "\t 2         & 0.2784054 & 0.7449506\\\\\n",
       "\t 3         & 0.3295463 & 0.8807557\\\\\n",
       "\t 4         & 0.3730630 & 1.0862902\\\\\n",
       "\t 5         & 0.4303285 & 1.2648830\\\\\n",
       "\t 6         & 0.4594197 & 1.3877770\\\\\n",
       "\\end{tabular}\n"
      ],
      "text/markdown": [
       "\n",
       "K | mean | sd | \n",
       "|---|---|---|---|---|---|\n",
       "| 1         | 0.1895158 | 0.4096712 | \n",
       "| 2         | 0.2784054 | 0.7449506 | \n",
       "| 3         | 0.3295463 | 0.8807557 | \n",
       "| 4         | 0.3730630 | 1.0862902 | \n",
       "| 5         | 0.4303285 | 1.2648830 | \n",
       "| 6         | 0.4594197 | 1.3877770 | \n",
       "\n",
       "\n"
      ],
      "text/plain": [
       "  K mean      sd       \n",
       "1 1 0.1895158 0.4096712\n",
       "2 2 0.2784054 0.7449506\n",
       "3 3 0.3295463 0.8807557\n",
       "4 4 0.3730630 1.0862902\n",
       "5 5 0.4303285 1.2648830\n",
       "6 6 0.4594197 1.3877770"
      ]
     },
     "metadata": {},
     "output_type": "display_data"
    }
   ],
   "source": [
    "avg.error = data.frame('K'= 1:15, 'mean' = aggregate(my_data[, 3], list(my_data$K), mean)[,2], 'sd' = aggregate(my_data[, 3], list(my_data$K), sd)[,2])\n",
    "head(avg.error)"
   ]
  },
  {
   "cell_type": "markdown",
   "metadata": {},
   "source": [
    "### 2.Plot the average error numbers versus 1/K"
   ]
  },
  {
   "cell_type": "code",
   "execution_count": 10,
   "metadata": {},
   "outputs": [
    {
     "data": {},
     "metadata": {},
     "output_type": "display_data"
    },
    {
     "data": {
      "image/png": "[encoded data removed]",
      "text/plain": [
       "plot without title"
      ]
     },
     "metadata": {},
     "output_type": "display_data"
    }
   ],
   "source": [
    "ggplot(avg.error, aes(x=1/K, y=mean)) + \n",
    "     geom_errorbar(aes(ymin=mean-sd, ymax=mean+sd), width=.05, linetype=\"dotted\", color = 'red') +\n",
    "     geom_line() +\n",
    "    geom_point() + \n",
    "    scale_color_discrete(guide = guide_legend(title = NULL)) + theme_minimal() +\n",
    "       ggtitle(\"Average Error with Standard Deviation\")"
   ]
  },
  {
   "cell_type": "markdown",
   "metadata": {},
   "source": [
    "###  3. The optimum value of K\n",
    "\n",
    "1. **The optimum value of 1/k is 0.5 as the average error is almost converging or K=2.**"
   ]
  },
  {
   "cell_type": "code",
   "execution_count": null,
   "metadata": {},
   "outputs": [],
   "source": []
  }
 ],
 "metadata": {
  "kernelspec": {
   "display_name": "R",
   "language": "R",
   "name": "ir"
  },
  "language_info": {
   "codemirror_mode": "r",
   "file_extension": ".r",
   "mimetype": "text/x-r-source",
   "name": "R",
   "pygments_lexer": "r",
   "version": "3.4.3"
  }
 },
 "nbformat": 4,
 "nbformat_minor": 2
}
